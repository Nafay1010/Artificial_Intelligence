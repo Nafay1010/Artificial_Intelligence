{
 "cells": [
  {
   "cell_type": "markdown",
   "metadata": {
    "slideshow": {
     "slide_type": "slide"
    }
   },
   "source": [
    "## Iteration, Repetition, Loops "
   ]
  },
  {
   "cell_type": "markdown",
   "metadata": {
    "slideshow": {
     "slide_type": "slide"
    }
   },
   "source": [
    "Sometimes, you want to do things more than once. "
   ]
  },
  {
   "cell_type": "code",
   "execution_count": 13,
   "metadata": {
    "tags": []
   },
   "outputs": [
    {
     "name": "stdout",
     "output_type": "stream",
     "text": [
      "Put sugar in.\n",
      "Put milk in.\n",
      "Put tea leaves in.\n"
     ]
    }
   ],
   "source": [
    "print('Put sugar in.')\n",
    "print('Put milk in.')\n",
    "print('Put tea leaves in.')"
   ]
  },
  {
   "cell_type": "markdown",
   "metadata": {
    "slideshow": {
     "slide_type": "slide"
    }
   },
   "source": [
    "However, that's a lot of wastage of our time. \"A good programmer is a lazy programmer!\""
   ]
  },
  {
   "cell_type": "code",
   "execution_count": 1,
   "metadata": {
    "slideshow": {
     "slide_type": "slide"
    },
    "tags": []
   },
   "outputs": [
    {
     "name": "stdout",
     "output_type": "stream",
     "text": [
      "Put milk .\n",
      "Put tea .\n",
      "Put sugar .\n"
     ]
    }
   ],
   "source": [
    "ing = {'sugar', 'milk', 'tea'}\n",
    "for ingredient in ing: \n",
    "    print (\"Put\", ingredient, '.')\n",
    "    \n",
    "    "
   ]
  },
  {
   "cell_type": "markdown",
   "metadata": {},
   "source": [
    "Let's see this in the tutor first. \n",
    "\n",
    "This is a compound statement that \"loops\" over the body. This particular type, surprisingly, is termed as the \"for loop\". It knows how many times we have to run the loop. "
   ]
  },
  {
   "cell_type": "code",
   "execution_count": 1,
   "metadata": {
    "slideshow": {
     "slide_type": "slide"
    },
    "tags": []
   },
   "outputs": [
    {
     "name": "stdout",
     "output_type": "stream",
     "text": [
      "Put sugar in.\n",
      "Put milk in.\n",
      "Put tea leaves in.\n",
      "Put water in.\n"
     ]
    }
   ],
   "source": [
    "for ingredient in 'sugar', 'milk', 'tea leaves', 'water': \n",
    "    print (\"Put\", ingredient, \"in.\")\n",
    "    \n",
    "# But we made doodh-patti! "
   ]
  },
  {
   "cell_type": "code",
   "execution_count": null,
   "metadata": {},
   "outputs": [],
   "source": [
    "a = {9,3,4,5,2,10}\n",
    "max = 0\n",
    "for i in a:\n",
    "    if i > max:\n",
    "        max = i\n",
    "print(\"Max: \" , max)"
   ]
  },
  {
   "cell_type": "code",
   "execution_count": 2,
   "metadata": {},
   "outputs": [
    {
     "name": "stdout",
     "output_type": "stream",
     "text": [
      "10\n",
      "9\n",
      "8\n",
      "7\n",
      "6\n",
      "5\n",
      "4\n",
      "3\n",
      "2\n",
      "1\n"
     ]
    }
   ],
   "source": [
    "# range(5)\n",
    "#range(0,5)\n",
    "#range(0,5,2)\n",
    "\n",
    "for i in range(10,0,-1):\n",
    "    print(i)"
   ]
  },
  {
   "cell_type": "code",
   "execution_count": 9,
   "metadata": {
    "slideshow": {
     "slide_type": "slide"
    },
    "tags": []
   },
   "outputs": [
    {
     "name": "stdout",
     "output_type": "stream",
     "text": [
      "2\n",
      "3\n",
      "4\n",
      "done\n"
     ]
    }
   ],
   "source": [
    "start = int(input(\"Start: \"))\n",
    "end = int(input(\"End: \"))\n",
    "for i in range(start, end):   # loop over a few numbers \n",
    "    \n",
    "    if i % 5 == 0: \n",
    "        break \n",
    "        \n",
    "    print(i) \n",
    "\n",
    "        \n",
    "print (\"done\")\n"
   ]
  },
  {
   "cell_type": "markdown",
   "metadata": {
    "slideshow": {
     "slide_type": "slide"
    }
   },
   "source": [
    "Sometimes, we don't know how many times to run the loop ...\n",
    "\n",
    "... but we do know when to stop. This is called the \"while loop\". \n",
    "\n",
    "For example, we want to print all multiples of 0.13 from 0 to 1. But we don't know how many of those there are. "
   ]
  },
  {
   "cell_type": "code",
   "execution_count": null,
   "metadata": {
    "slideshow": {
     "slide_type": "slide"
    },
    "tags": []
   },
   "outputs": [],
   "source": [
    "n = 0.13 \n",
    "\n",
    "while n < 1 :\n",
    "    print n \n",
    "    n = n + 0.13 \n",
    "\n",
    "print n \n",
    "print 'Done.'"
   ]
  },
  {
   "cell_type": "code",
   "execution_count": 10,
   "metadata": {
    "slideshow": {
     "slide_type": "slide"
    },
    "tags": []
   },
   "outputs": [
    {
     "name": "stdout",
     "output_type": "stream",
     "text": [
      "0.13\n",
      "0.26\n",
      "0.39\n",
      "0.52\n",
      "0.65\n",
      "0.78\n",
      "0.91\n",
      "7\n",
      "Done.\n"
     ]
    }
   ],
   "source": [
    "# we can also count how many there were by saving the count\n",
    "n = 0.13 \n",
    "i = 0         # our counter \n",
    "\n",
    "while n < 1: \n",
    "    i = i + 1\n",
    "    print(n) \n",
    "    n = n + 0.13 \n",
    "\n",
    "print (i) \n",
    "print ('Done.')"
   ]
  },
  {
   "cell_type": "markdown",
   "metadata": {
    "slideshow": {
     "slide_type": "slide"
    }
   },
   "source": [
    "In C: \n",
    "    \n",
    "<img align='left' src='imgs/c-while.png' width='250px' /> "
   ]
  },
  {
   "cell_type": "markdown",
   "metadata": {
    "slideshow": {
     "slide_type": "slide"
    }
   },
   "source": [
    "### Factorial "
   ]
  },
  {
   "cell_type": "markdown",
   "metadata": {},
   "source": [
    "Factorial is a useful function. (It is used to calculate `sin`, `cos` and in several series as well as to calculate number of permutations etc.) \n",
    "\n",
    "Factorial of a number is the multiplication of all integers up to that number. For example, \n",
    "\n",
    "$$\\text{fact}(4) = 4 \\times 3 \\times 2 \\times 1 = 24$$\n",
    "\n"
   ]
  },
  {
   "cell_type": "markdown",
   "metadata": {},
   "source": [
    "Let's move to the slides to see how we want to formalize this problem. "
   ]
  },
  {
   "cell_type": "code",
   "execution_count": null,
   "metadata": {
    "slideshow": {
     "slide_type": "slide"
    },
    "tags": []
   },
   "outputs": [],
   "source": [
    "fac = 1    # typically, the iteration variable is called i or j or k \n",
    "\n",
    "i = 1 \n",
    "\n",
    "while i <= 4 : \n",
    "    fac = fac * i\n",
    "    i = i + 1 \n",
    "    \n",
    "print (fac) "
   ]
  },
  {
   "cell_type": "markdown",
   "metadata": {},
   "source": [
    "## Reading Assignment \n",
    "\n",
    "* Section *2.4 Iteration* from the Guttag's python book. "
   ]
  },
  {
   "cell_type": "markdown",
   "metadata": {
    "slideshow": {
     "slide_type": "slide"
    }
   },
   "source": [
    "### Fibonacci Numbers\n",
    "\n",
    "Fibonacci numbers are quite useful. Here's what they look like: $ 0, 1, 1, 2, 3, 5, 8, 13, 21, \\ldots $\n",
    "\n",
    "$ \\textrm{fib}(0) = 0 $ \n",
    "\n",
    "$ \\textrm{fib}(1) = 1 $ \n",
    "\n",
    "$ \\textrm{fib}(n) = \\textrm{fib}(n-1) + \\textrm{fib}(n-2) $ \n",
    "\n",
    " "
   ]
  },
  {
   "cell_type": "code",
   "execution_count": 28,
   "metadata": {
    "slideshow": {
     "slide_type": "slide"
    },
    "tags": []
   },
   "outputs": [],
   "source": [
    "def fib(n): \n",
    "    if n == 0 or n == 1 :\n",
    "        return n \n",
    "    \n",
    "    else:\n",
    "        return fib(n-1) + fib(n-2)"
   ]
  },
  {
   "cell_type": "code",
   "execution_count": 29,
   "metadata": {
    "slideshow": {
     "slide_type": "fragment"
    }
   },
   "outputs": [
    {
     "data": {
      "text/plain": [
       "6765"
      ]
     },
     "execution_count": 29,
     "metadata": {},
     "output_type": "execute_result"
    }
   ],
   "source": [
    "fib(20)   # Let's also try 2, 3, 5, 7, 10"
   ]
  },
  {
   "cell_type": "code",
   "execution_count": 18,
   "metadata": {
    "slideshow": {
     "slide_type": "slide"
    }
   },
   "outputs": [
    {
     "name": "stdout",
     "output_type": "stream",
     "text": [
      "CPU times: total: 7.17 s\n",
      "Wall time: 7.16 s\n"
     ]
    },
    {
     "data": {
      "text/plain": [
       "24157817"
      ]
     },
     "execution_count": 18,
     "metadata": {},
     "output_type": "execute_result"
    }
   ],
   "source": [
    "%time fib(37)  # this will take a bit of time (but let's fix that later)"
   ]
  },
  {
   "cell_type": "code",
   "execution_count": 30,
   "metadata": {
    "slideshow": {
     "slide_type": "slide"
    },
    "tags": []
   },
   "outputs": [],
   "source": [
    "def fibnew(n): \n",
    "    if n <= 1: return n \n",
    " \n",
    "    a, b = 0, 1 \n",
    "    \n",
    "    for i in range(1, n):\n",
    "        a, b = b, a + b\n",
    "        # print(\"a \",a )\n",
    "        \n",
    "    return a"
   ]
  },
  {
   "cell_type": "code",
   "execution_count": 31,
   "metadata": {
    "slideshow": {
     "slide_type": "fragment"
    },
    "tags": []
   },
   "outputs": [],
   "source": [
    "#0  1  1   2  3  5  8  13  21\n",
    "#                      a    b"
   ]
  },
  {
   "cell_type": "code",
   "execution_count": 32,
   "metadata": {
    "slideshow": {
     "slide_type": "slide"
    },
    "tags": []
   },
   "outputs": [
    {
     "name": "stdout",
     "output_type": "stream",
     "text": [
      "CPU times: total: 0 ns\n",
      "Wall time: 0 ns\n"
     ]
    },
    {
     "data": {
      "text/plain": [
       "4181"
      ]
     },
     "execution_count": 32,
     "metadata": {},
     "output_type": "execute_result"
    }
   ],
   "source": [
    "%time fibnew(20)"
   ]
  },
  {
   "cell_type": "markdown",
   "metadata": {},
   "source": [
    "## Reading Assignment \n",
    "\n",
    "Read up on PEP 8 -- Style Guide for Python Code https://www.python.org/dev/peps/pep-0008/ "
   ]
  }
 ],
 "metadata": {
  "celltoolbar": "Slideshow",
  "kernelspec": {
   "display_name": "Python 3 (ipykernel)",
   "language": "python",
   "name": "python3"
  },
  "language_info": {
   "codemirror_mode": {
    "name": "ipython",
    "version": 3
   },
   "file_extension": ".py",
   "mimetype": "text/x-python",
   "name": "python",
   "nbconvert_exporter": "python",
   "pygments_lexer": "ipython3",
   "version": "3.10.2"
  },
  "livereveal": {
   "transition": "fade"
  }
 },
 "nbformat": 4,
 "nbformat_minor": 4
}
